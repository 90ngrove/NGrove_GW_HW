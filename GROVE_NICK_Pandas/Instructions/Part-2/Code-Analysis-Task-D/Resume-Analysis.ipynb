{
 "cells": [
  {
   "cell_type": "markdown",
   "metadata": {},
   "source": [
    "# Resume Analysis\n",
    "_**HARD: This is a curveball assignment. Plus, this is Python without Pandas.**_\n",
    "\n",
    "#### The objective of this assignment is for you to explain what is happening in each cell in clear, understandable language. \n",
    "\n",
    "#### _There is no need to code._ The code is there for you, and it already runs. Your task is only to explain what each line in each cell does.\n",
    "\n",
    "#### The placeholder cells should describe what happens in the cell below it."
   ]
  },
  {
   "cell_type": "markdown",
   "metadata": {},
   "source": [
    "The cell below imports `os` as a dependency because the `os.path.join` function. Also, the `string` dependency is needed because later in the script, `string.punctuation` will be used to detect and remove punctuation symbols. Explain what the line `from collection import Counter` does."
   ]
  },
  {
   "cell_type": "code",
   "execution_count": 1,
   "metadata": {},
   "outputs": [],
   "source": [
    "import os\n",
    "import string\n",
    "from collections import Counter"
   ]
  },
  {
   "cell_type": "markdown",
   "metadata": {},
   "source": [
    "_[Replace this with your clear explanation of what happens in the cell below. Think about how the `REQUIRED_SKILLS` set and the `DESIRED_SKILLS` set can be used in the program. Also, why are the variables in ALL CAPS?]_"
   ]
  },
  {
   "cell_type": "code",
   "execution_count": 2,
   "metadata": {},
   "outputs": [],
   "source": [
    "# Paths\n",
    "# this is finding the filepath for the file that they want to read in\n",
    "# the skills to match is a tuple\n",
    "resume_path = os.path.join(\".\", 'resume.md')\n",
    "\n",
    "# Skills to match\n",
    "REQUIRED_SKILLS = {\"excel\", \"python\", \"mysql\", \"statistics\"}\n",
    "DESIRED_SKILLS = {\"r\", \"git\", \"html\", \"css\", \"leaflet\", \"modeling\"}"
   ]
  },
  {
   "cell_type": "markdown",
   "metadata": {},
   "source": [
    "_[Replace this with your clear explanation of what happens in the cell below. How is this function defined? What does it take in, how does it work, and what does it return?]_"
   ]
  },
  {
   "cell_type": "code",
   "execution_count": 4,
   "metadata": {},
   "outputs": [],
   "source": [
    "def load_file(filepath):\n",
    "    # Helper function to read a file and return the data.\n",
    "    with open(filepath, \"r\") as resume_file_handler:\n",
    "        resume_contents = resume_file_handler.read()\n",
    "        resume_contents = resume_contents.lower()\n",
    "        resume_tokens = resume_contents.split()\n",
    "        return resume_tokens"
   ]
  },
  {
   "cell_type": "markdown",
   "metadata": {},
   "source": [
    "_[Replace this with your clear explanation of what happens in the cell below. What is this cell doing? Is it passing anything? Does it get anything back? What happens to `word_list`?]_\n",
    "\n",
    "The wordlist is placing all of the attributes in the file into seperate elements in a string."
   ]
  },
  {
   "cell_type": "code",
   "execution_count": 5,
   "metadata": {
    "scrolled": true
   },
   "outputs": [
    {
     "data": {
      "text/plain": [
       "['#',\n",
       " 'frank',\n",
       " 'n.',\n",
       " 'stein',\n",
       " '##',\n",
       " 'education',\n",
       " '*',\n",
       " 'data',\n",
       " 'analytics',\n",
       " 'and',\n",
       " 'visualization',\n",
       " 'boot',\n",
       " 'camp',\n",
       " 'graduate',\n",
       " '##',\n",
       " 'experience',\n",
       " '*',\n",
       " 'creating',\n",
       " 'pivot',\n",
       " 'tables',\n",
       " 'and',\n",
       " 'vba',\n",
       " 'scripts',\n",
       " 'in',\n",
       " 'excel.',\n",
       " '*',\n",
       " 'modeling',\n",
       " 'and',\n",
       " 'forecasting',\n",
       " 'data',\n",
       " 'using',\n",
       " 'basic',\n",
       " 'statistics',\n",
       " '*',\n",
       " 'writing',\n",
       " 'python',\n",
       " 'scripts',\n",
       " 'to',\n",
       " 'analyze',\n",
       " 'data',\n",
       " 'sets',\n",
       " 'from',\n",
       " 'files',\n",
       " 'and',\n",
       " 'apis.',\n",
       " '*',\n",
       " 'social',\n",
       " 'media',\n",
       " 'mining',\n",
       " 'using',\n",
       " 'python',\n",
       " '*',\n",
       " 'working',\n",
       " 'with',\n",
       " 'mysql',\n",
       " 'and',\n",
       " 'mongodb',\n",
       " 'databases',\n",
       " '*',\n",
       " 'developing',\n",
       " 'front-end',\n",
       " 'web',\n",
       " 'visualizations',\n",
       " 'using',\n",
       " 'html,',\n",
       " 'css,',\n",
       " 'bootstrap,',\n",
       " 'd3,',\n",
       " 'and',\n",
       " 'leaflet.js',\n",
       " '*',\n",
       " 'using',\n",
       " 'the',\n",
       " 'tableau',\n",
       " 'business',\n",
       " 'intelligence',\n",
       " 'software',\n",
       " '*',\n",
       " 'performing',\n",
       " 'big',\n",
       " 'data',\n",
       " 'analytics',\n",
       " 'with',\n",
       " 'hadoop',\n",
       " '*',\n",
       " 'working',\n",
       " 'with',\n",
       " 'machine',\n",
       " 'learning',\n",
       " 'algorithms',\n",
       " '##',\n",
       " 'skills',\n",
       " '*',\n",
       " 'microsoft',\n",
       " 'excel,',\n",
       " 'python,',\n",
       " 'javascript,',\n",
       " 'html/css,',\n",
       " 'api',\n",
       " 'interactions,',\n",
       " 'social',\n",
       " 'media',\n",
       " 'mining,',\n",
       " 'sql,',\n",
       " 'hadoop,',\n",
       " 'tableau,',\n",
       " 'advanced',\n",
       " 'statistics,',\n",
       " 'machine',\n",
       " 'learning,',\n",
       " 'r,',\n",
       " 'git/github',\n",
       " '##',\n",
       " 'interests',\n",
       " '*',\n",
       " 'contributing',\n",
       " 'to',\n",
       " 'open-source',\n",
       " 'software',\n",
       " '*',\n",
       " 'data',\n",
       " 'analytics',\n",
       " 'with',\n",
       " 'python',\n",
       " 'and',\n",
       " 'pandas',\n",
       " '*',\n",
       " 'designing',\n",
       " 'data',\n",
       " 'visualization',\n",
       " 'web',\n",
       " 'apps',\n",
       " 'with',\n",
       " 'html,',\n",
       " 'css,',\n",
       " 'javascript,',\n",
       " 'and',\n",
       " 'd3',\n",
       " '*',\n",
       " 'working',\n",
       " 'with',\n",
       " 'big',\n",
       " 'data',\n",
       " 'in',\n",
       " 'the',\n",
       " 'cloud',\n",
       " 'using',\n",
       " 'aws']"
      ]
     },
     "execution_count": 5,
     "metadata": {},
     "output_type": "execute_result"
    }
   ],
   "source": [
    "# Grab the text for a Resume\n",
    "\n",
    "word_list = load_file(resume_path)\n",
    "word_list"
   ]
  },
  {
   "cell_type": "markdown",
   "metadata": {},
   "source": [
    "Replace this with your clear explanation of what happens in the cell below. \n",
    "Be sure to answer the following:\n",
    "* Why is a `set` created?\n",
    "* How are we populating the set\n",
    "* Why would it be necessary to create a `punctuation` set?\n",
    "* What does subtracting from the set do?\n",
    "* * Refer to the `resume = resume - punctuation` line\n",
    "* What does `\\n` do in a string"
   ]
  },
  {
   "cell_type": "code",
   "execution_count": null,
   "metadata": {},
   "outputs": [],
   "source": [
    "# Create a set of unique words from the resume\n",
    "resume = set()\n",
    "\n",
    "# HINT: Single elements in a programming language are often referred to as tokens\n",
    "for token in word_list:\n",
    "    resume.add(token)\n",
    "\n",
    "print('\\nWORDS BEFORE MOVING PUNCTUATION')    \n",
    "print(resume)\n",
    "\n",
    "# Remove Punctuation that were read as whole words\n",
    "punctuation = set(string.punctuation)\n",
    "# HINT: Attributes that are in `resume` that are not in `punctuation` (difference)\n",
    "resume = resume - punctuation\n",
    "\n",
    "print('\\nWORDS AFTER MOVING PUNCTUATION')    \n",
    "print(resume)"
   ]
  },
  {
   "cell_type": "markdown",
   "metadata": {},
   "source": [
    "Replace this with your clear explanation of what happens in the cell below. \n",
    "Be sure to answer the following:\n",
    "* What does using a `set` intersection do in this section?\n",
    "* How does the character cleaning function work differently than the word cleaning function? (test it)\n",
    "* Can you add more items to the `stop_words` list?\n",
    "* Explain how the list `word_list` list comprehension works. What does it return and what is the filtering criteria?"
   ]
  },
  {
   "cell_type": "code",
   "execution_count": null,
   "metadata": {},
   "outputs": [],
   "source": [
    "# Calculate the Required Skills Match using Set Intersection\n",
    "print('REQUIRED SKILLS')\n",
    "print(resume & REQUIRED_SKILLS)\n",
    "\n",
    "# Calculate the Desired Skills Match using Set Intersection\n",
    "print('DESIRED SKILLS')\n",
    "print(resume & DESIRED_SKILLS)\n",
    "\n",
    "\n",
    "# Word Punctuation Cleaning\n",
    "word_list = [word for word in word_list if word not in string.punctuation]\n",
    "print('\\nWORD LIST AFTER PUNCTUATION REMOVAL')\n",
    "print(word_list)\n",
    "\n",
    "# Character Punctuation Cleaning\n",
    "word_list = [''.join(char for char in word if char not in string.punctuation) for word in word_list]\n",
    "print('\\nWORD LIST AFTER CHARACTER PUNCTUATION REMOVAL')\n",
    "print(word_list)\n",
    "\n",
    "# Clean Stop Words\n",
    "stop_words = [\"and\", \"with\", \"using\", \"##\", \"working\", \"in\", \"to\"]\n",
    "word_list = [word for word in word_list if word not in stop_words]\n",
    "print('\\nWORD LIST AFTER STOP WORDS')\n",
    "print(word_list)"
   ]
  },
  {
   "cell_type": "markdown",
   "metadata": {},
   "source": [
    "Replace this with your clear explanation of what happens in the cell below.\n",
    "Be sure to explain the following:\n",
    "\n",
    "* How was the `word_count` dictionary initialized, what were in initial key values, and how were they set?\n",
    "* Explain the logic behind incrementing the world count value using the `for loop`. Be sure to explain how to reference the word key in the `word_count` dictionary\n",
    "* Collections.counter is optional, but explain the difference between the `for loop` and using `Counter`"
   ]
  },
  {
   "cell_type": "code",
   "execution_count": null,
   "metadata": {},
   "outputs": [],
   "source": [
    "# Resume Word Count\n",
    "# ==========================\n",
    "# Initialize a dictionary with default values equal to zero\n",
    "word_count = {}.fromkeys(word_list, 0)\n",
    "\n",
    "# Loop through the word list and count each word.\n",
    "for word in word_list:\n",
    "    word_count[word] += 1\n",
    "# print(word_count)\n",
    "\n",
    "# Bonus using collections.Counter\n",
    "word_counter = Counter(word_list)\n",
    "# print(word_counter)\n",
    "\n",
    "# Comparing both word count solutions\n",
    "print(word_count == word_counter)\n",
    "\n",
    "# Top 10 Words\n",
    "print(\"Top 10 Words\")\n",
    "print(\"=============\")"
   ]
  },
  {
   "cell_type": "markdown",
   "metadata": {},
   "source": [
    "Replace this with your clear explanation of what happens in the cell below. Which column was sorted and how? How was the top ten selected? Does that explain the significance of `[:10]`?\n",
    "\n",
    "As a bonus, explain how you would get rid of the blank token."
   ]
  },
  {
   "cell_type": "code",
   "execution_count": null,
   "metadata": {},
   "outputs": [],
   "source": [
    "# Sort words by count and print the top 10\n",
    "sorted_words = []\n",
    "for word in sorted(word_count, key=word_count.get, reverse=True)[:10]:\n",
    "    print(f\"Token: {word:20} Count: {word_count[word]}\")"
   ]
  }
 ],
 "metadata": {
  "kernelspec": {
   "display_name": "Python 3",
   "language": "python",
   "name": "python3"
  },
  "language_info": {
   "codemirror_mode": {
    "name": "ipython",
    "version": 3
   },
   "file_extension": ".py",
   "mimetype": "text/x-python",
   "name": "python",
   "nbconvert_exporter": "python",
   "pygments_lexer": "ipython3",
   "version": "3.7.3"
  }
 },
 "nbformat": 4,
 "nbformat_minor": 4
}
